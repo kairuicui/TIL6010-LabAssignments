{
 "cells": [
  {
   "cell_type": "markdown",
   "metadata": {},
   "source": [
    "# Project Group - \n",
    "\n",
    "Members: Group 14\n",
    "\n",
    "Student numbers: Kairui Cui(5512158); Ying Wu(5491363); Han Lu(5446635); Fengyan Zhang(5462150)"
   ]
  },
  {
   "cell_type": "markdown",
   "metadata": {},
   "source": [
    "# Research Objective\n",
    "Main objective: To what extent does COVID affect the mobility of different groups in Nertherlands?\n",
    "\n",
    "Sub objective : \n",
    "\n",
    "* What criteria can be used to classify the population?\n",
    "\n",
    "* What are differences of mobility among different groups?\n",
    "\n",
    "* What are the underlying causes of these differences?\n",
    "\n",
    "\n",
    "\n",
    "\n",
    "\n"
   ]
  },
  {
   "cell_type": "markdown",
   "metadata": {},
   "source": []
  },
  {
   "cell_type": "markdown",
   "metadata": {},
   "source": [
    "# Contribution Statement\n",
    "\n",
    "*Be specific. Some of the tasks can be coding (expect everyone to do this), background research, conceptualisation, visualisation, data analysis, data modelling*"
   ]
  },
  {
   "cell_type": "markdown",
   "metadata": {},
   "source": [
    "**Kairui Cui**: Background research; data processing analysis, and visualisation(for one grouping criteria); writing report\n",
    "\n",
    "**Ying Wu**: Breiefly comment on the raw data; data processing, analysis and visualization(for one grouping criteria); writing report\n",
    "\n",
    "**Han Lu**: Research question; data processing, analysis and visualization(for one grouping criteria); writing report\n",
    "\n",
    "**Fengyan Zhang**: Reflection; data processing, analysis and visualization(for one grouping criteria);"
   ]
  },
  {
   "cell_type": "markdown",
   "metadata": {},
   "source": [
    "# Data Used"
   ]
  },
  {
   "cell_type": "markdown",
   "metadata": {},
   "source": [
    "* CBS Data/Traffic and transport/mobility of persons data - https://opendata.cbs.nl/statline/#/CBS/nl/navigatieScherm/thema?themaNr=24100\n",
    "\n",
    "* CBS Data/Traffic and transport/means of Transport - https://opendata.cbs.nl/statline/#/CBS/nl/navigatieScherm/thema?themaNr=9440\n",
    "\n",
    "* EuroStatistics/Passenger road transport on national territory, by type of vehicles registered in the reporting country - https://ec.europa.eu/eurostat/databrowser/view/road_pa_mov/default/table?lang=en\n",
    "\n",
    "* Covid Data https://ourworldindata.org/coronavirus"
   ]
  },
  {
   "cell_type": "markdown",
   "metadata": {},
   "source": [
    "# Data Pipeline"
   ]
  },
  {
   "cell_type": "markdown",
   "metadata": {},
   "source": [
    "1. Download csv or excel file from websites.\n",
    "2. Select data according to research scope.\n",
    "3. Data preprocessing, including data fusion, eliminate redundancy, outliers and add missing data.\n",
    "4. Data analysis and visualization."
   ]
  },
  {
   "cell_type": "code",
   "execution_count": 6,
   "metadata": {},
   "outputs": [
    {
     "name": "stdout",
     "output_type": "stream",
     "text": [
      "loading dataset ...\n",
      " found file \n",
      "done\n",
      "overview of the dataset: \n",
      "(2011, 9)\n",
      "the first 5 lines of the dataset: \n",
      "                 DATAFLOW        LAST UPDATE freq     unit  vehicle geo  \\\n",
      "0  ESTAT:ROAD_PA_MOV(1.0)  02/08/22 23:00:00    A  MIO_PKM  BUS_TOT  AT   \n",
      "1  ESTAT:ROAD_PA_MOV(1.0)  02/08/22 23:00:00    A  MIO_PKM  BUS_TOT  AT   \n",
      "2  ESTAT:ROAD_PA_MOV(1.0)  02/08/22 23:00:00    A  MIO_PKM  BUS_TOT  AT   \n",
      "3  ESTAT:ROAD_PA_MOV(1.0)  02/08/22 23:00:00    A  MIO_PKM  BUS_TOT  AT   \n",
      "4  ESTAT:ROAD_PA_MOV(1.0)  02/08/22 23:00:00    A  MIO_PKM  BUS_TOT  AT   \n",
      "\n",
      "   TIME_PERIOD  OBS_VALUE OBS_FLAG  \n",
      "0         1990     7939.0        b  \n",
      "1         1991     7896.0      NaN  \n",
      "2         1992     8058.0      NaN  \n",
      "3         1993     8300.0      NaN  \n",
      "4         1994     8446.0      NaN  \n",
      "the column names: \n",
      "Index(['DATAFLOW', 'LAST UPDATE', 'freq', 'unit', 'vehicle', 'geo',\n",
      "       'TIME_PERIOD', 'OBS_VALUE', 'OBS_FLAG'],\n",
      "      dtype='object')\n",
      "info about each field\n",
      "<class 'pandas.core.frame.DataFrame'>\n",
      "RangeIndex: 2011 entries, 0 to 2010\n",
      "Data columns (total 9 columns):\n",
      " #   Column       Non-Null Count  Dtype  \n",
      "---  ------       --------------  -----  \n",
      " 0   DATAFLOW     2011 non-null   object \n",
      " 1   LAST UPDATE  2011 non-null   object \n",
      " 2   freq         2011 non-null   object \n",
      " 3   unit         2011 non-null   object \n",
      " 4   vehicle      2011 non-null   object \n",
      " 5   geo          2011 non-null   object \n",
      " 6   TIME_PERIOD  2011 non-null   int64  \n",
      " 7   OBS_VALUE    1985 non-null   float64\n",
      " 8   OBS_FLAG     358 non-null    object \n",
      "dtypes: float64(1), int64(1), object(7)\n",
      "memory usage: 141.5+ KB\n",
      "None\n"
     ]
    }
   ],
   "source": [
    "# for some common processing -> such as null data filling, possible repeatness, ... etc\n",
    "# a common class which handles the preprocessing can be useful since we can avoid writing repeated code for \n",
    "# some common functions\n",
    "\n",
    "# all python source files (.py) files go to \"project/src\" folder\n",
    "# __pycache__ contains python 3 bytecode compiled files (can be ignored)\n",
    "\n",
    "# once you have modified the python source files in the src folder\n",
    "# you may need to restart the kernel to \"update\" the cache variables\n",
    "\n",
    "# import moudle as such\n",
    "from src.Preprocessing import Preprocessing\n",
    "\n",
    "# load data file, just specify the file name and pass it to load_data_csv function\n",
    "# csv file only\n",
    "data = Preprocessing.load_data_csv(\"road_pa_mov_linear.csv\")\n",
    "\n",
    "# get some basic info of the data\n",
    "Preprocessing.data_info(data)\n"
   ]
  }
 ],
 "metadata": {
  "kernelspec": {
   "display_name": "Python 3.10.6 ('geo_env')",
   "language": "python",
   "name": "python3"
  },
  "language_info": {
   "codemirror_mode": {
    "name": "ipython",
    "version": 3
   },
   "file_extension": ".py",
   "mimetype": "text/x-python",
   "name": "python",
   "nbconvert_exporter": "python",
   "pygments_lexer": "ipython3",
   "version": "3.10.6"
  },
  "orig_nbformat": 4,
  "vscode": {
   "interpreter": {
    "hash": "b6656aa92867de04c70119335fc3c3a4596933397f2003359bd019dd745cffca"
   }
  }
 },
 "nbformat": 4,
 "nbformat_minor": 2
}
