{
 "cells": [
  {
   "cell_type": "markdown",
   "metadata": {},
   "source": [
    "# Project Group - \n",
    "\n",
    "Members: Group 14\n",
    "\n",
    "Student numbers: Kairui Cui(5512158); Ying Wu(5491363); Lu Han(5446635); Fengyan Zhang(5462150)"
   ]
  },
  {
   "cell_type": "markdown",
   "metadata": {},
   "source": [
    "# Research Objective\n",
    "Main objective: To what extent does COVID affect the mobility of different groups in Nertherlands?\n",
    "\n",
    "Sub objective : \n",
    "\n",
    "* What criteria can be used to classify the population?\n",
    "\n",
    "* What are differences of mobility among different groups?\n",
    "\n",
    "* What are the underlying causes of these differences?\n",
    "\n",
    "\n",
    "\n",
    "\n",
    "\n"
   ]
  },
  {
   "cell_type": "markdown",
   "metadata": {},
   "source": []
  },
  {
   "cell_type": "markdown",
   "metadata": {},
   "source": [
    "# Contribution Statement\n",
    "\n",
    "*Be specific. Some of the tasks can be coding (expect everyone to do this), background research, conceptualisation, visualisation, data analysis, data modelling*"
   ]
  },
  {
   "cell_type": "markdown",
   "metadata": {},
   "source": [
    "**Kairui Cui**: Background research; data processing analysis, and visualisation(for one grouping criteria); writing report\n",
    "\n",
    "**Ying Wu**: Breiefly comment on the raw data; data processing, analysis and visualization(for one grouping criteria); writing report\n",
    "\n",
    "**Lu Han**: Research question; data processing, analysis and visualization(for one grouping criteria); writing report\n",
    "\n",
    "**Fengyan Zhang**: Reflection; data processing, analysis and visualization(for one grouping criteria);"
   ]
  },
  {
   "cell_type": "markdown",
   "metadata": {},
   "source": [
    "# Data Used"
   ]
  },
  {
   "cell_type": "markdown",
   "metadata": {},
   "source": [
    "* CBS Data/Traffic and transport/mobility of persons data - https://opendata.cbs.nl/statline/#/CBS/nl/navigatieScherm/thema?themaNr=24100\n",
    "\n",
    "* CBS Data/Traffic and transport/means of Transport - https://opendata.cbs.nl/statline/#/CBS/nl/navigatieScherm/thema?themaNr=9440\n",
    "\n",
    "* EuroStatistics/Passenger road transport on national territory, by type of vehicles registered in the reporting country - https://ec.europa.eu/eurostat/databrowser/view/road_pa_mov/default/table?lang=en\n",
    "\n",
    "* Covid Data https://ourworldindata.org/coronavirus"
   ]
  },
  {
   "cell_type": "markdown",
   "metadata": {},
   "source": [
    "# Data Pipeline"
   ]
  },
  {
   "cell_type": "markdown",
   "metadata": {},
   "source": [
    "1. Download csv or excel file from websites.\n",
    "2. Select data according to research scope.\n",
    "3. Data preprocessing, including data fusion, eliminate redundancy, outliers and add missing data.\n",
    "4. Data analysis and visualization."
   ]
  },
  {
   "cell_type": "code",
   "execution_count": 1,
   "metadata": {},
   "outputs": [
    {
     "name": "stdout",
     "output_type": "stream",
     "text": [
      "loading dataset ...\n",
      " found file \n",
      "done\n",
      "                    DATAFLOW        LAST UPDATE freq     unit  vehicle geo  \\\n",
      "0     ESTAT:ROAD_PA_MOV(1.0)  02/08/22 23:00:00    A  MIO_PKM  BUS_TOT  AT   \n",
      "1     ESTAT:ROAD_PA_MOV(1.0)  02/08/22 23:00:00    A  MIO_PKM  BUS_TOT  AT   \n",
      "2     ESTAT:ROAD_PA_MOV(1.0)  02/08/22 23:00:00    A  MIO_PKM  BUS_TOT  AT   \n",
      "3     ESTAT:ROAD_PA_MOV(1.0)  02/08/22 23:00:00    A  MIO_PKM  BUS_TOT  AT   \n",
      "4     ESTAT:ROAD_PA_MOV(1.0)  02/08/22 23:00:00    A  MIO_PKM  BUS_TOT  AT   \n",
      "...                      ...                ...  ...      ...      ...  ..   \n",
      "2006  ESTAT:ROAD_PA_MOV(1.0)  02/08/22 23:00:00    A  MIO_PKM    TOTAL  UK   \n",
      "2007  ESTAT:ROAD_PA_MOV(1.0)  02/08/22 23:00:00    A  MIO_PKM    TOTAL  UK   \n",
      "2008  ESTAT:ROAD_PA_MOV(1.0)  02/08/22 23:00:00    A  MIO_PKM    TOTAL  UK   \n",
      "2009  ESTAT:ROAD_PA_MOV(1.0)  02/08/22 23:00:00    A  MIO_PKM    TOTAL  UK   \n",
      "2010  ESTAT:ROAD_PA_MOV(1.0)  02/08/22 23:00:00    A  MIO_PKM    TOTAL  UK   \n",
      "\n",
      "      TIME_PERIOD  OBS_VALUE OBS_FLAG  \n",
      "0            1990     7939.0        b  \n",
      "1            1991     7896.0      NaN  \n",
      "2            1992     8058.0      NaN  \n",
      "3            1993     8300.0      NaN  \n",
      "4            1994     8446.0      NaN  \n",
      "...           ...        ...      ...  \n",
      "2006         2012   694319.0        d  \n",
      "2007         2013   686843.0      NaN  \n",
      "2008         2014   698779.0      NaN  \n",
      "2009         2015   699338.0      NaN  \n",
      "2010         2016   706769.0      NaN  \n",
      "\n",
      "[2011 rows x 9 columns]\n",
      "WARNING: -----------------------------------------------------------------------\n",
      "process_missing_data_removing is being called\n",
      "this function will remove all rows with NaN values, please proceed with caution\n",
      "\n",
      "missing attribute list constructed, the following list will be obtained\n",
      "['OBS_FLAG', 'OBS_VALUE']\n",
      "missing attribute provided, will proceed\n",
      "missing data info BEFORE NaN values removed --------------------------------------\n",
      "OBS_FLAG       1653\n",
      "OBS_VALUE        26\n",
      "DATAFLOW          0\n",
      "LAST UPDATE       0\n",
      "freq              0\n",
      "unit              0\n",
      "vehicle           0\n",
      "geo               0\n",
      "TIME_PERIOD       0\n",
      "dtype: int64\n",
      "\n",
      "removing all rows with OBS_FLAG == NULL\n",
      "removing all rows with OBS_VALUE == NULL\n",
      "done\n",
      "missing data info AFTER  NaN values removed --------------------------------------\n",
      "DATAFLOW       0\n",
      "LAST UPDATE    0\n",
      "freq           0\n",
      "unit           0\n",
      "vehicle        0\n",
      "geo            0\n",
      "TIME_PERIOD    0\n",
      "OBS_VALUE      0\n",
      "OBS_FLAG       0\n",
      "dtype: int64\n",
      "0       False\n",
      "32      False\n",
      "46      False\n",
      "50      False\n",
      "81      False\n",
      "        ...  \n",
      "1851    False\n",
      "1940    False\n",
      "1979    False\n",
      "2005    False\n",
      "2006    False\n",
      "Length: 332, dtype: bool\n",
      "                    DATAFLOW        LAST UPDATE freq     unit  vehicle geo  \\\n",
      "0     ESTAT:ROAD_PA_MOV(1.0)  02/08/22 23:00:00    A  MIO_PKM  BUS_TOT  AT   \n",
      "32    ESTAT:ROAD_PA_MOV(1.0)  02/08/22 23:00:00    A  MIO_PKM  BUS_TOT  BE   \n",
      "46    ESTAT:ROAD_PA_MOV(1.0)  02/08/22 23:00:00    A  MIO_PKM  BUS_TOT  BG   \n",
      "50    ESTAT:ROAD_PA_MOV(1.0)  02/08/22 23:00:00    A  MIO_PKM  BUS_TOT  BG   \n",
      "81    ESTAT:ROAD_PA_MOV(1.0)  02/08/22 23:00:00    A  MIO_PKM  BUS_TOT  CH   \n",
      "...                      ...                ...  ...      ...      ...  ..   \n",
      "1851  ESTAT:ROAD_PA_MOV(1.0)  02/08/22 23:00:00    A  MIO_PKM    TOTAL  PL   \n",
      "1940  ESTAT:ROAD_PA_MOV(1.0)  02/08/22 23:00:00    A  MIO_PKM    TOTAL  SI   \n",
      "1979  ESTAT:ROAD_PA_MOV(1.0)  02/08/22 23:00:00    A  MIO_PKM    TOTAL  TR   \n",
      "2005  ESTAT:ROAD_PA_MOV(1.0)  02/08/22 23:00:00    A  MIO_PKM    TOTAL  UK   \n",
      "2006  ESTAT:ROAD_PA_MOV(1.0)  02/08/22 23:00:00    A  MIO_PKM    TOTAL  UK   \n",
      "\n",
      "      TIME_PERIOD  OBS_VALUE OBS_FLAG  \n",
      "0            1990     7939.0        b  \n",
      "32           2013    21516.0        p  \n",
      "46           2008    11988.3        r  \n",
      "50           2012     8949.9        d  \n",
      "81           1992     3583.0        r  \n",
      "...           ...        ...      ...  \n",
      "1851         2016   254262.0        e  \n",
      "1940         2017    10955.0        e  \n",
      "1979         2008   206098.0        r  \n",
      "2005         2005   731000.0        p  \n",
      "2006         2012   694319.0        d  \n",
      "\n",
      "[332 rows x 9 columns]\n"
     ]
    }
   ],
   "source": [
    "# for some common processing -> such as null data filling, possible repeatness, ... etc\n",
    "# a common class which handles the preprocessing can be useful since we can avoid writing repeated code for \n",
    "# some common functions\n",
    "\n",
    "# all python source files (.py) files go to \"project/src\" folder\n",
    "# __pycache__ contains python 3 bytecode compiled files (can be ignored)\n",
    "\n",
    "# NOTE:\n",
    "# whenever the python source files in the `src` folder are modified\n",
    "# you may need to restart the kernel to \"update\" the cache variables and then run the code block\n",
    "\n",
    "# NOTE:\n",
    "# a function should keep original dataset untouched(just as arguments) when processing data \n",
    "# -> in debug stage -> keep track of the dataset after different operations\n",
    "# but this will probably slow down the run time a little bit\n",
    "#\n",
    "# after testing removing copying should improve the efficiency if the dataset is large\n",
    "# or (according to some blogs) python will handle variable address and avoid copying objects internally - [need to be verified]\n",
    "# or we can just do some benchmarks after all functions are built\n",
    "\n",
    "# import moudle as such\n",
    "from src.Preprocessing import Preprocessing\n",
    "\n",
    "# load data file, just specify the file name and pass it to load_data_csv function\n",
    "# csv file only\n",
    "data = Preprocessing.load_data_csv(\"road_pa_mov_linear.csv\")\n",
    "print(data)\n",
    "\n",
    "# get some basic info of the data, uncomment this to print out the basic info to the console\n",
    "# Preprocessing.data_info(data)\n",
    "\n",
    "# get info of missing data(if any), uncomment this to print out the missing data info to the console\n",
    "# Preprocessing.get_missing_data_info(data)\n",
    "\n",
    "# process the missing data with removing operation, if no second arguments are given, REMOVE mode will be selected as default\n",
    "# can use multiple modes(ideally), such as median filling, average value filling ... etc.\n",
    "# currently only supports for 'REMOVE' mode\n",
    "data = Preprocessing.process_missing_data(data, mode='REMOVE')\n",
    "\n",
    "# process duplicates, if pass True as the 2nd argument, the info before duplicates processing will be printed out to the console\n",
    "data = Preprocessing.process_duplicate_data(data)\n",
    "print(data.duplicated()) # validate\n",
    "print(data)\n",
    "\n",
    "# now we can proceed with the dataset without NaN values and without duplicates\n",
    "# ..."
   ]
  }
 ],
 "metadata": {
  "kernelspec": {
   "display_name": "Python 3.10.6 ('geo_env')",
   "language": "python",
   "name": "python3"
  },
  "language_info": {
   "codemirror_mode": {
    "name": "ipython",
    "version": 3
   },
   "file_extension": ".py",
   "mimetype": "text/x-python",
   "name": "python",
   "nbconvert_exporter": "python",
   "pygments_lexer": "ipython3",
   "version": "3.10.6"
  },
  "orig_nbformat": 4,
  "vscode": {
   "interpreter": {
    "hash": "b6656aa92867de04c70119335fc3c3a4596933397f2003359bd019dd745cffca"
   }
  }
 },
 "nbformat": 4,
 "nbformat_minor": 2
}
