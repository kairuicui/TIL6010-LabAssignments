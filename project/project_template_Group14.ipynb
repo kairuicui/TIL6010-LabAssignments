{
 "cells": [
  {
   "cell_type": "markdown",
   "metadata": {},
   "source": [
    "# Project Group - \n",
    "\n",
    "Members: Group 14\n",
    "\n",
    "Student numbers: Kairui Cui(5512158); Ying Wu(5491363); Han Lu(5446635); Fengyan Zhang(5462150)"
   ]
  },
  {
   "cell_type": "markdown",
   "metadata": {},
   "source": [
    "# Research Objective\n",
    "Main objective: To what extent does COVID affect the mobility of different groups in Nertherlands?\n",
    "\n",
    "Sub objective : \n",
    "\n",
    "* What criteria can be used to classify the population?\n",
    "\n",
    "* What are differences of mobility among different groups?\n",
    "\n",
    "* What are the underlying causes of these differences?\n",
    "\n",
    "\n",
    "\n",
    "\n",
    "\n"
   ]
  },
  {
   "cell_type": "markdown",
   "metadata": {},
   "source": []
  },
  {
   "cell_type": "markdown",
   "metadata": {},
   "source": [
    "# Contribution Statement\n",
    "\n",
    "*Be specific. Some of the tasks can be coding (expect everyone to do this), background research, conceptualisation, visualisation, data analysis, data modelling*"
   ]
  },
  {
   "cell_type": "markdown",
   "metadata": {},
   "source": [
    "**Kairui Cui**: Background research; data processing analysis, and visualisation(for one grouping criteria); writing report\n",
    "\n",
    "**Ying Wu**: Breiefly comment on the raw data; data processing, analysis and visualization(for one grouping criteria); writing report\n",
    "\n",
    "**Han Lu**: Research question; data processing, analysis and visualization(for one grouping criteria); writing report\n",
    "\n",
    "**Fengyan Zhang**: Reflection; data processing, analysis and visualization(for one grouping criteria);"
   ]
  },
  {
   "cell_type": "markdown",
   "metadata": {},
   "source": [
    "# Data Used"
   ]
  },
  {
   "cell_type": "markdown",
   "metadata": {},
   "source": [
    "* CBS Data/Traffic and transport/mobility of persons data - https://opendata.cbs.nl/statline/#/CBS/nl/navigatieScherm/thema?themaNr=24100\n",
    "\n",
    "* CBS Data/Traffic and transport/means of Transport - https://opendata.cbs.nl/statline/#/CBS/nl/navigatieScherm/thema?themaNr=9440\n",
    "\n",
    "* EuroStatistics/Passenger road transport on national territory, by type of vehicles registered in the reporting country - https://ec.europa.eu/eurostat/databrowser/view/road_pa_mov/default/table?lang=en\n",
    "\n",
    "* Covid Data https://ourworldindata.org/coronavirus"
   ]
  },
  {
   "cell_type": "markdown",
   "metadata": {},
   "source": [
    "# Data Pipeline"
   ]
  },
  {
   "cell_type": "markdown",
   "metadata": {},
   "source": [
    "1. Download csv or excel file from websites.\n",
    "2. Select data according to research scope.\n",
    "3. Data preprocessing, including data fusion, eliminate redundancy, outliers and add missing data.\n",
    "4. Data analysis and visualization."
   ]
  },
  {
   "cell_type": "code",
   "execution_count": 6,
   "metadata": {},
   "outputs": [
    {
     "name": "stdout",
     "output_type": "stream",
     "text": [
      "loading dataset ...\n",
      " found file \n",
      "done\n",
      "overview of the dataset: \n",
      "(221911, 67)\n",
      "the first 5 lines of the dataset: \n",
      "  iso_code continent  ... excess_mortality excess_mortality_cumulative_per_million\n",
      "0      AFG      Asia  ...              NaN                                     NaN\n",
      "1      AFG      Asia  ...              NaN                                     NaN\n",
      "2      AFG      Asia  ...              NaN                                     NaN\n",
      "3      AFG      Asia  ...              NaN                                     NaN\n",
      "4      AFG      Asia  ...              NaN                                     NaN\n",
      "\n",
      "[5 rows x 67 columns]\n",
      "the column names: \n",
      "Index(['iso_code', 'continent', 'location', 'date', 'total_cases', 'new_cases',\n",
      "       'new_cases_smoothed', 'total_deaths', 'new_deaths',\n",
      "       'new_deaths_smoothed', 'total_cases_per_million',\n",
      "       'new_cases_per_million', 'new_cases_smoothed_per_million',\n",
      "       'total_deaths_per_million', 'new_deaths_per_million',\n",
      "       'new_deaths_smoothed_per_million', 'reproduction_rate', 'icu_patients',\n",
      "       'icu_patients_per_million', 'hosp_patients',\n",
      "       'hosp_patients_per_million', 'weekly_icu_admissions',\n",
      "       'weekly_icu_admissions_per_million', 'weekly_hosp_admissions',\n",
      "       'weekly_hosp_admissions_per_million', 'total_tests', 'new_tests',\n",
      "       'total_tests_per_thousand', 'new_tests_per_thousand',\n",
      "       'new_tests_smoothed', 'new_tests_smoothed_per_thousand',\n",
      "       'positive_rate', 'tests_per_case', 'tests_units', 'total_vaccinations',\n",
      "       'people_vaccinated', 'people_fully_vaccinated', 'total_boosters',\n",
      "       'new_vaccinations', 'new_vaccinations_smoothed',\n",
      "       'total_vaccinations_per_hundred', 'people_vaccinated_per_hundred',\n",
      "       'people_fully_vaccinated_per_hundred', 'total_boosters_per_hundred',\n",
      "       'new_vaccinations_smoothed_per_million',\n",
      "       'new_people_vaccinated_smoothed',\n",
      "       'new_people_vaccinated_smoothed_per_hundred', 'stringency_index',\n",
      "       'population', 'population_density', 'median_age', 'aged_65_older',\n",
      "       'aged_70_older', 'gdp_per_capita', 'extreme_poverty',\n",
      "       'cardiovasc_death_rate', 'diabetes_prevalence', 'female_smokers',\n",
      "       'male_smokers', 'handwashing_facilities', 'hospital_beds_per_thousand',\n",
      "       'life_expectancy', 'human_development_index',\n",
      "       'excess_mortality_cumulative_absolute', 'excess_mortality_cumulative',\n",
      "       'excess_mortality', 'excess_mortality_cumulative_per_million'],\n",
      "      dtype='object')\n",
      "info about each field\n",
      "<class 'pandas.core.frame.DataFrame'>\n",
      "RangeIndex: 221911 entries, 0 to 221910\n",
      "Data columns (total 67 columns):\n",
      " #   Column                                      Non-Null Count   Dtype  \n",
      "---  ------                                      --------------   -----  \n",
      " 0   iso_code                                    221911 non-null  object \n",
      " 1   continent                                   209160 non-null  object \n",
      " 2   location                                    221911 non-null  object \n",
      " 3   date                                        221911 non-null  object \n",
      " 4   total_cases                                 212763 non-null  float64\n",
      " 5   new_cases                                   212533 non-null  float64\n",
      " 6   new_cases_smoothed                          211337 non-null  float64\n",
      " 7   total_deaths                                193635 non-null  float64\n",
      " 8   new_deaths                                  193604 non-null  float64\n",
      " 9   new_deaths_smoothed                         192424 non-null  float64\n",
      " 10  total_cases_per_million                     211790 non-null  float64\n",
      " 11  new_cases_per_million                       211560 non-null  float64\n",
      " 12  new_cases_smoothed_per_million              210369 non-null  float64\n",
      " 13  total_deaths_per_million                    192675 non-null  float64\n",
      " 14  new_deaths_per_million                      192644 non-null  float64\n",
      " 15  new_deaths_smoothed_per_million             191469 non-null  float64\n",
      " 16  reproduction_rate                           166717 non-null  float64\n",
      " 17  icu_patients                                28226 non-null   float64\n",
      " 18  icu_patients_per_million                    28226 non-null   float64\n",
      " 19  hosp_patients                               30996 non-null   float64\n",
      " 20  hosp_patients_per_million                   30996 non-null   float64\n",
      " 21  weekly_icu_admissions                       7300 non-null    float64\n",
      " 22  weekly_icu_admissions_per_million           7300 non-null    float64\n",
      " 23  weekly_hosp_admissions                      14272 non-null   float64\n",
      " 24  weekly_hosp_admissions_per_million          14272 non-null   float64\n",
      " 25  total_tests                                 79387 non-null   float64\n",
      " 26  new_tests                                   75403 non-null   float64\n",
      " 27  total_tests_per_thousand                    79387 non-null   float64\n",
      " 28  new_tests_per_thousand                      75403 non-null   float64\n",
      " 29  new_tests_smoothed                          103965 non-null  float64\n",
      " 30  new_tests_smoothed_per_thousand             103965 non-null  float64\n",
      " 31  positive_rate                               95927 non-null   float64\n",
      " 32  tests_per_case                              94348 non-null   float64\n",
      " 33  tests_units                                 106788 non-null  object \n",
      " 34  total_vaccinations                          62115 non-null   float64\n",
      " 35  people_vaccinated                           59400 non-null   float64\n",
      " 36  people_fully_vaccinated                     56630 non-null   float64\n",
      " 37  total_boosters                              33294 non-null   float64\n",
      " 38  new_vaccinations                            51081 non-null   float64\n",
      " 39  new_vaccinations_smoothed                   128548 non-null  float64\n",
      " 40  total_vaccinations_per_hundred              62115 non-null   float64\n",
      " 41  people_vaccinated_per_hundred               59400 non-null   float64\n",
      " 42  people_fully_vaccinated_per_hundred         56630 non-null   float64\n",
      " 43  total_boosters_per_hundred                  33294 non-null   float64\n",
      " 44  new_vaccinations_smoothed_per_million       128548 non-null  float64\n",
      " 45  new_people_vaccinated_smoothed              127952 non-null  float64\n",
      " 46  new_people_vaccinated_smoothed_per_hundred  127952 non-null  float64\n",
      " 47  stringency_index                            167423 non-null  float64\n",
      " 48  population                                  220621 non-null  float64\n",
      " 49  population_density                          197094 non-null  float64\n",
      " 50  median_age                                  182391 non-null  float64\n",
      " 51  aged_65_older                               180466 non-null  float64\n",
      " 52  aged_70_older                               181437 non-null  float64\n",
      " 53  gdp_per_capita                              181743 non-null  float64\n",
      " 54  extreme_poverty                             118416 non-null  float64\n",
      " 55  cardiovasc_death_rate                       181906 non-null  float64\n",
      " 56  diabetes_prevalence                         191227 non-null  float64\n",
      " 57  female_smokers                              137677 non-null  float64\n",
      " 58  male_smokers                                135792 non-null  float64\n",
      " 59  handwashing_facilities                      89534 non-null   float64\n",
      " 60  hospital_beds_per_thousand                  161871 non-null  float64\n",
      " 61  life_expectancy                             207351 non-null  float64\n",
      " 62  human_development_index                     177409 non-null  float64\n",
      " 63  excess_mortality_cumulative_absolute        7460 non-null    float64\n",
      " 64  excess_mortality_cumulative                 7460 non-null    float64\n",
      " 65  excess_mortality                            7507 non-null    float64\n",
      " 66  excess_mortality_cumulative_per_million     7460 non-null    float64\n",
      "dtypes: float64(62), object(5)\n",
      "memory usage: 113.4+ MB\n",
      "None\n"
     ]
    }
   ],
   "source": [
    "# for some common processing -> such as null data filling, possible repeatness, ... etc\n",
    "# a common class which handles the preprocessing can be useful since we can avoid writing repeated code for \n",
    "# some common functions\n",
    "\n",
    "# all python source files (.py) files go to \"project/src\" folder\n",
    "# __pycache__ contains python 3 bytecode compiled files (can be ignored)\n",
    "\n",
    "# import moudle as such\n",
    "from src.Preprocessing import Preprocessing\n",
    "\n",
    "# load data file, just specify the file name and pass it to load_data_csv function\n",
    "# csv file only\n",
    "data = Preprocessing.load_data_csv(\"owid-covid-data.csv\")\n",
    "\n",
    "# get some basic info of the data\n",
    "Preprocessing.data_info(data)\n"
   ]
  }
 ],
 "metadata": {
  "kernelspec": {
   "display_name": "Python 3.10.6 ('geo_env')",
   "language": "python",
   "name": "python3"
  },
  "language_info": {
   "codemirror_mode": {
    "name": "ipython",
    "version": 3
   },
   "file_extension": ".py",
   "mimetype": "text/x-python",
   "name": "python",
   "nbconvert_exporter": "python",
   "pygments_lexer": "ipython3",
   "version": "3.10.6"
  },
  "orig_nbformat": 4,
  "vscode": {
   "interpreter": {
    "hash": "b6656aa92867de04c70119335fc3c3a4596933397f2003359bd019dd745cffca"
   }
  }
 },
 "nbformat": 4,
 "nbformat_minor": 2
}
