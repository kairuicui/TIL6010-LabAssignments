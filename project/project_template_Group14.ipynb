{
 "cells": [
  {
   "cell_type": "markdown",
   "metadata": {},
   "source": [
    "# Project Group - \n",
    "\n",
    "Members: Group 14\n",
    "\n",
    "Student numbers: Kairui Cui(5512158); Ying Wu(5491363); Han Lu(5446635); Fengyan Zhang(5462150)"
   ]
  },
  {
   "cell_type": "markdown",
   "metadata": {},
   "source": [
    "# Research Objective\n",
    "Main objective: To what extent does COVID affect the mobility of different groups in Nertherlands?\n",
    "\n",
    "Sub objective : \n",
    "\n",
    "* What criteria can be used to classify the population?\n",
    "\n",
    "* What are differences of mobility among different groups?\n",
    "\n",
    "* What are the underlying causes of these differences?\n",
    "\n",
    "\n",
    "\n",
    "\n",
    "\n"
   ]
  },
  {
   "cell_type": "markdown",
   "metadata": {},
   "source": []
  },
  {
   "cell_type": "markdown",
   "metadata": {},
   "source": [
    "# Contribution Statement\n",
    "\n",
    "*Be specific. Some of the tasks can be coding (expect everyone to do this), background research, conceptualisation, visualisation, data analysis, data modelling*"
   ]
  },
  {
   "cell_type": "markdown",
   "metadata": {},
   "source": [
    "**Kairui Cui**: Background research; data processing analysis, and visualisation(for one grouping criteria); writing report\n",
    "\n",
    "**Ying Wu**: Breiefly comment on the raw data; data processing, analysis and visualization(for one grouping criteria); writing report\n",
    "\n",
    "**Han Lu**: Research question; data processing, analysis and visualization(for one grouping criteria); writing report\n",
    "\n",
    "**Fengyan Zhang**: Reflection; data processing, analysis and visualization(for one grouping criteria);"
   ]
  },
  {
   "cell_type": "markdown",
   "metadata": {},
   "source": [
    "# Data Used"
   ]
  },
  {
   "cell_type": "markdown",
   "metadata": {},
   "source": [
    "* CBS Data/Traffic and transport/mobility of persons data - https://opendata.cbs.nl/statline/#/CBS/nl/navigatieScherm/thema?themaNr=24100\n",
    "\n",
    "* CBS Data/Traffic and transport/means of Transport - https://opendata.cbs.nl/statline/#/CBS/nl/navigatieScherm/thema?themaNr=9440\n",
    "\n",
    "* EuroStatistics/Passenger road transport on national territory, by type of vehicles registered in the reporting country - https://ec.europa.eu/eurostat/databrowser/view/road_pa_mov/default/table?lang=en\n",
    "\n",
    "* Covid Data https://ourworldindata.org/coronavirus"
   ]
  },
  {
   "cell_type": "markdown",
   "metadata": {},
   "source": [
    "# Data Pipeline"
   ]
  },
  {
   "cell_type": "markdown",
   "metadata": {},
   "source": [
    "1. Download csv or excel file from websites.\n",
    "2. Select data according to research scope.\n",
    "3. Data preprocessing, including data fusion, eliminate redundancy, outliers and add missing data.\n",
    "4. Data analysis and visualization."
   ]
  },
  {
   "cell_type": "code",
   "execution_count": 6,
   "metadata": {},
   "outputs": [
    {
     "name": "stdout",
     "output_type": "stream",
     "text": [
      "loading dataset ...\n",
      " found file \n",
      "done\n",
      "WARNING: -----------------------------------------------------------------------\n",
      "process_missing_data_removing is being called\n",
      "this function will remove all rows with NaN values, please proceed with caution\n",
      "\n",
      "missing attribute list constructed, the following list will be obtained\n",
      "['OBS_FLAG', 'OBS_VALUE']\n",
      "missing attribute provided, will proceed\n",
      "removing all rows with OBS_FLAG == NULL\n",
      "removing all rows with OBS_VALUE == NULL\n",
      "done\n",
      "missing data info after NaN values removed --------------------------------------\n",
      "DATAFLOW       0\n",
      "LAST UPDATE    0\n",
      "freq           0\n",
      "unit           0\n",
      "vehicle        0\n",
      "geo            0\n",
      "TIME_PERIOD    0\n",
      "OBS_VALUE      0\n",
      "OBS_FLAG       0\n",
      "dtype: int64\n",
      "data with NaN values removed will be returned\n"
     ]
    }
   ],
   "source": [
    "# for some common processing -> such as null data filling, possible repeatness, ... etc\n",
    "# a common class which handles the preprocessing can be useful since we can avoid writing repeated code for \n",
    "# some common functions\n",
    "\n",
    "# all python source files (.py) files go to \"project/src\" folder\n",
    "# __pycache__ contains python 3 bytecode compiled files (can be ignored)\n",
    "\n",
    "# NOTE:\n",
    "# whenever the python source files in the `src` folder are modified\n",
    "# you may need to restart the kernel to \"update\" the cache variables and then run the code block\n",
    "\n",
    "# import moudle as such\n",
    "from src.Preprocessing import Preprocessing\n",
    "\n",
    "# load data file, just specify the file name and pass it to load_data_csv function\n",
    "# csv file only\n",
    "data = Preprocessing.load_data_csv(\"road_pa_mov_linear.csv\")\n",
    "\n",
    "# get some basic info of the data, uncomment this to print out the basic info to the console\n",
    "# Preprocessing.data_info(data)\n",
    "\n",
    "# get info of missing data(if any), uncomment this to print out the missing data info to the console\n",
    "# Preprocessing.get_missing_data_info(data)\n",
    "\n",
    "# process the missing data with removing operation\n",
    "data_without_nan_values = Preprocessing.process_missing_data_removing(data)\n",
    "\n",
    "# now we can proceed with the dataset without NaN values\n",
    "# ..."
   ]
  }
 ],
 "metadata": {
  "kernelspec": {
   "display_name": "Python 3.10.6 ('geo_env')",
   "language": "python",
   "name": "python3"
  },
  "language_info": {
   "codemirror_mode": {
    "name": "ipython",
    "version": 3
   },
   "file_extension": ".py",
   "mimetype": "text/x-python",
   "name": "python",
   "nbconvert_exporter": "python",
   "pygments_lexer": "ipython3",
   "version": "3.10.6"
  },
  "orig_nbformat": 4,
  "vscode": {
   "interpreter": {
    "hash": "b6656aa92867de04c70119335fc3c3a4596933397f2003359bd019dd745cffca"
   }
  }
 },
 "nbformat": 4,
 "nbformat_minor": 2
}
