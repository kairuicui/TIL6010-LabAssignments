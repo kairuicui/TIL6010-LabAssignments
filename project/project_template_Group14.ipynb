{
 "cells": [
  {
   "cell_type": "markdown",
   "metadata": {},
   "source": [
    "# Project Group - \n",
    "\n",
    "Members: Group 14\n",
    "\n",
    "Student numbers: Kairui Cui(5512158); Ying Wu(5491363); Han Lu(5446635); Fengyan Zhang(5462150)"
   ]
  },
  {
   "cell_type": "markdown",
   "metadata": {},
   "source": [
    "# Research Objective\n",
    "Main objective: To what extent does COVID affect the mobility of different groups in Nertherlands?\n",
    "\n",
    "Sub objective : \n",
    "\n",
    "* What criteria can be used to classify the population?\n",
    "\n",
    "* What are differences of mobility among different groups?\n",
    "\n",
    "* What are the underlying causes of these differences?\n",
    "\n",
    "\n",
    "\n",
    "\n",
    "\n"
   ]
  },
  {
   "cell_type": "markdown",
   "metadata": {},
   "source": []
  },
  {
   "cell_type": "markdown",
   "metadata": {},
   "source": [
    "# Contribution Statement\n",
    "\n",
    "*Be specific. Some of the tasks can be coding (expect everyone to do this), background research, conceptualisation, visualisation, data analysis, data modelling*"
   ]
  },
  {
   "cell_type": "markdown",
   "metadata": {},
   "source": [
    "**Kairui Cui**: Background research; data processing analysis, and visualisation(for one grouping criteria); writing report\n",
    "\n",
    "**Ying Wu**: Breiefly comment on the raw data; data processing, analysis and visualization(for one grouping criteria); writing report\n",
    "\n",
    "**Han Lu**: Research question; data processing, analysis and visualization(for one grouping criteria); writing report\n",
    "\n",
    "**Fengyan Zhang**: Reflection; data processing, analysis and visualization(for one grouping criteria);"
   ]
  },
  {
   "cell_type": "markdown",
   "metadata": {},
   "source": [
    "# Data Used"
   ]
  },
  {
   "cell_type": "markdown",
   "metadata": {},
   "source": [
    "* CBS Data/Traffic and transport/mobility of persons data - https://opendata.cbs.nl/statline/#/CBS/nl/navigatieScherm/thema?themaNr=24100\n",
    "\n",
    "* CBS Data/Traffic and transport/means of Transport - https://opendata.cbs.nl/statline/#/CBS/nl/navigatieScherm/thema?themaNr=9440\n",
    "\n",
    "* EuroStatistics/Passenger road transport on national territory, by type of vehicles registered in the reporting country - https://ec.europa.eu/eurostat/databrowser/view/road_pa_mov/default/table?lang=en\n",
    "\n",
    "* Covid Data https://ourworldindata.org/coronavirus"
   ]
  },
  {
   "cell_type": "markdown",
   "metadata": {},
   "source": [
    "# Data Pipeline"
   ]
  },
  {
   "cell_type": "markdown",
   "metadata": {},
   "source": [
    "1. Download csv or excel file from websites.\n",
    "2. Select data according to research scope.\n",
    "3. Data preprocessing, including data fusion, eliminate redundancy, outliers and add missing data.\n",
    "4. Data analysis and visualization."
   ]
  }
 ],
 "metadata": {
  "kernelspec": {
   "display_name": "Python 3",
   "language": "python",
   "name": "python3"
  },
  "language_info": {
   "name": "python",
   "version": "3.8.2"
  },
  "orig_nbformat": 4,
  "vscode": {
   "interpreter": {
    "hash": "31f2aee4e71d21fbe5cf8b01ff0e069b9275f58929596ceb00d14d90e3e16cd6"
   }
  }
 },
 "nbformat": 4,
 "nbformat_minor": 2
}
